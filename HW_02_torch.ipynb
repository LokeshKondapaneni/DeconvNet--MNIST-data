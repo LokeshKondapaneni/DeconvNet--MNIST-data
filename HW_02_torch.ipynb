{
 "cells": [
  {
   "cell_type": "markdown",
   "metadata": {},
   "source": [
    "# Visulaizing intermediate layers of a Neural Network"
   ]
  },
  {
   "cell_type": "code",
   "execution_count": null,
   "metadata": {},
   "outputs": [],
   "source": [
    "import torch\n",
    "import torch.nn as nn\n",
    "import numpy as np\n",
    "import matplotlib.pyplot as plt\n",
    "import idx2numpy\n",
    "from sklearn.metrics import f1_score\n",
    "from sklearn.model_selection import train_test_split\n",
    "from sklearn.preprocessing import LabelEncoder\n",
    "from tensorflow.keras.utils import to_categorical\n",
    "\n",
    "from torch.utils.data import DataLoader\n",
    "from torch.optim import Adam\n",
    "import torch.utils.data as data_utils\n",
    "\n",
    "device = torch.device('cuda' if torch.cuda.is_available() else 'cpu')"
   ]
  },
  {
   "cell_type": "markdown",
   "metadata": {},
   "source": [
    "### Load dataset - Train data"
   ]
  },
  {
   "cell_type": "code",
   "execution_count": 2,
   "metadata": {},
   "outputs": [],
   "source": [
    "file_train = 'Data/train-images.idx3-ubyte'\n",
    "arr_train = idx2numpy.convert_from_file(file_train)"
   ]
  },
  {
   "cell_type": "code",
   "execution_count": 3,
   "metadata": {},
   "outputs": [],
   "source": [
    "file_train_lbl = \"Data/train-labels.idx1-ubyte\"\n",
    "arr_train_lbl = idx2numpy.convert_from_file(file_train_lbl)"
   ]
  },
  {
   "cell_type": "code",
   "execution_count": 4,
   "metadata": {},
   "outputs": [
    {
     "data": {
      "text/plain": [
       "(60000, 28, 28)"
      ]
     },
     "execution_count": 4,
     "metadata": {},
     "output_type": "execute_result"
    }
   ],
   "source": [
    "arr_train.shape"
   ]
  },
  {
   "cell_type": "code",
   "execution_count": 5,
   "metadata": {},
   "outputs": [],
   "source": [
    "# Normalizing the data  between 0 and 1\n",
    "train_data_arr = arr_train.astype('float')/255.0"
   ]
  },
  {
   "cell_type": "code",
   "execution_count": 6,
   "metadata": {},
   "outputs": [],
   "source": [
    "# Reshaping it to match the input shape\n",
    "tr_shape = train_data_arr.shape\n",
    "train_data_arr = train_data_arr.reshape(tr_shape[0],1,tr_shape[1], tr_shape[2])"
   ]
  },
  {
   "cell_type": "code",
   "execution_count": 7,
   "metadata": {},
   "outputs": [],
   "source": [
    "train_data_arr = torch.from_numpy(train_data_arr)\n",
    "arr_train_lbl = torch.from_numpy(arr_train_lbl)"
   ]
  },
  {
   "cell_type": "code",
   "execution_count": 8,
   "metadata": {},
   "outputs": [],
   "source": [
    "train = data_utils.TensorDataset(train_data_arr, arr_train_lbl)"
   ]
  },
  {
   "cell_type": "code",
   "execution_count": 9,
   "metadata": {},
   "outputs": [],
   "source": [
    "# Making a DataLoader from train data\n",
    "train_loader = DataLoader(train, batch_size=120, shuffle=True)"
   ]
  },
  {
   "cell_type": "code",
   "execution_count": 10,
   "metadata": {},
   "outputs": [],
   "source": [
    "# Fetching the step size\n",
    "num_train_steps = len(train_loader.dataset)//120"
   ]
  },
  {
   "cell_type": "markdown",
   "metadata": {},
   "source": [
    "## Task- 1\n",
    "\n",
    "Building a CNN model "
   ]
  },
  {
   "cell_type": "markdown",
   "metadata": {},
   "source": [
    "### Conv Network"
   ]
  },
  {
   "cell_type": "code",
   "execution_count": 11,
   "metadata": {},
   "outputs": [],
   "source": [
    "# Creating a Convnet model\n",
    "class Net(nn.Module):\n",
    "    def __init__(self):\n",
    "        # Initialize the parent class\n",
    "        super(Net, self).__init__()\n",
    "        \n",
    "        self.conv1 = nn.Conv2d(1, 6, kernel_size=(5,5), stride=(1,1), padding=(2,2))\n",
    "        self.relu1 = nn.ReLU()\n",
    "        self.argmaxes = []\n",
    "        self.maxpool1 = nn.MaxPool2d(kernel_size=(2,2), stride=(2,2), return_indices=True)\n",
    "        \n",
    "        self.conv2 = nn.Conv2d(6, 16, kernel_size=(5,5), stride=(1,1))\n",
    "        self.relu2 = nn.ReLU()\n",
    "        self.maxpool2 = nn.MaxPool2d(kernel_size=(2,2), stride=(2,2), return_indices=True)\n",
    "        \n",
    "        self.linear1 = nn.Linear(16*5*5, 120)\n",
    "        self.relu3 = nn.ReLU()\n",
    "        \n",
    "        self.linear2 = nn.Linear(120, 84)\n",
    "        self.relu4 = nn.ReLU()\n",
    "        \n",
    "        self.linear3 = nn.Linear(84, 10)\n",
    "        self.logsoftmax = nn.LogSoftmax(dim=1)\n",
    "        \n",
    "    def forward(self,x):\n",
    "        x = self.conv1(x)\n",
    "        x = self.relu1(x)\n",
    "        x, argmax1 = self.maxpool1(x)\n",
    "        \n",
    "        x = self.conv2(x)\n",
    "        x = self.relu2(x)\n",
    "        x, argmax2 = self.maxpool2(x)\n",
    "        \n",
    "        x = torch.flatten(x, 1)\n",
    "        x = self.linear1(x)\n",
    "        x = self.relu3(x)\n",
    "        \n",
    "        x = self.linear2(x)\n",
    "        x = self.relu4(x)\n",
    "        \n",
    "        x = self.linear3(x)\n",
    "        output = self.logsoftmax(x)\n",
    "        self.argmaxes = [argmax1, argmax2]\n",
    "        return output"
   ]
  },
  {
   "cell_type": "code",
   "execution_count": 12,
   "metadata": {},
   "outputs": [],
   "source": [
    "# Funtion for forward hook to get the outputs of pool layer\n",
    "activation = {}\n",
    "def get_activation(name):\n",
    "    def hook(model, input, output):\n",
    "        activation[name] = output[0].detach()\n",
    "    return hook"
   ]
  },
  {
   "cell_type": "code",
   "execution_count": 13,
   "metadata": {},
   "outputs": [
    {
     "name": "stdout",
     "output_type": "stream",
     "text": [
      "Model Started:\n"
     ]
    }
   ],
   "source": [
    "print('Model Started:')\n",
    "torch_model = Net()\n",
    "#torch_model.maxpool2.register_forward_hook(get_activation('maxpool2'))\n",
    "# Using NLLoss with Log Soft Max gives us categorical cross entropy loss\n",
    "optimizer = Adam(torch_model.parameters(), lr=0.0001)\n",
    "loss_func = nn.NLLLoss()\n",
    "# To retain loss values\n",
    "history = {'train_loss':[], 'train_accuracy':[]}"
   ]
  },
  {
   "cell_type": "code",
   "execution_count": 14,
   "metadata": {},
   "outputs": [],
   "source": [
    "# Training the model with 25 epochs\n",
    "for epoch in range(25):\n",
    "    torch_model.train()\n",
    "    \n",
    "    trainLoss = 0\n",
    "    trainAcc = 0\n",
    "    \n",
    "    for (arr,label) in train_loader:\n",
    "        optimizer.zero_grad()\n",
    "        y_pred = torch_model(arr.float())\n",
    "        loss = loss_func(y_pred, label.long())\n",
    "        \n",
    "        loss.backward()\n",
    "        optimizer.step()\n",
    "        \n",
    "        trainLoss += loss\n",
    "        trainAcc+=(y_pred.argmax(1) ==label).type(torch.float).sum().item()\n",
    "\n",
    "    avgTrainLoss = trainLoss / num_train_steps\n",
    "    trainAcc = trainAcc / len(train_loader.dataset)\n",
    "\n",
    "    history[\"train_loss\"].append(avgTrainLoss.cpu().detach().numpy())\n",
    "    history[\"train_accuracy\"].append(trainAcc)"
   ]
  },
  {
   "cell_type": "code",
   "execution_count": 15,
   "metadata": {},
   "outputs": [
    {
     "data": {
      "text/plain": [
       "{'train_loss': [array(1.1679368, dtype=float32),\n",
       "  array(0.3291444, dtype=float32),\n",
       "  array(0.23839165, dtype=float32),\n",
       "  array(0.19132331, dtype=float32),\n",
       "  array(0.15872599, dtype=float32),\n",
       "  array(0.1366072, dtype=float32),\n",
       "  array(0.12070192, dtype=float32),\n",
       "  array(0.1069392, dtype=float32),\n",
       "  array(0.0976535, dtype=float32),\n",
       "  array(0.089297, dtype=float32),\n",
       "  array(0.08375711, dtype=float32),\n",
       "  array(0.07810402, dtype=float32),\n",
       "  array(0.07386982, dtype=float32),\n",
       "  array(0.0695911, dtype=float32),\n",
       "  array(0.06640249, dtype=float32),\n",
       "  array(0.06277695, dtype=float32),\n",
       "  array(0.05997819, dtype=float32),\n",
       "  array(0.05775074, dtype=float32),\n",
       "  array(0.05489318, dtype=float32),\n",
       "  array(0.05253713, dtype=float32),\n",
       "  array(0.05013769, dtype=float32),\n",
       "  array(0.04821813, dtype=float32),\n",
       "  array(0.04683891, dtype=float32),\n",
       "  array(0.04453014, dtype=float32),\n",
       "  array(0.04322854, dtype=float32)],\n",
       " 'train_accuracy': [0.68785,\n",
       "  0.9038166666666667,\n",
       "  0.9289166666666666,\n",
       "  0.9424833333333333,\n",
       "  0.9529166666666666,\n",
       "  0.9589166666666666,\n",
       "  0.9633333333333334,\n",
       "  0.9673333333333334,\n",
       "  0.9700666666666666,\n",
       "  0.9728333333333333,\n",
       "  0.9745,\n",
       "  0.9764,\n",
       "  0.978,\n",
       "  0.97915,\n",
       "  0.9799333333333333,\n",
       "  0.9813833333333334,\n",
       "  0.9817166666666667,\n",
       "  0.9821833333333333,\n",
       "  0.9834333333333334,\n",
       "  0.9833833333333334,\n",
       "  0.98475,\n",
       "  0.9856166666666667,\n",
       "  0.9860166666666667,\n",
       "  0.9867,\n",
       "  0.98675]}"
      ]
     },
     "execution_count": 15,
     "metadata": {},
     "output_type": "execute_result"
    }
   ],
   "source": [
    "# The train loss and accuracy values\n",
    "history"
   ]
  },
  {
   "cell_type": "markdown",
   "metadata": {},
   "source": [
    "### Load data- Test data"
   ]
  },
  {
   "cell_type": "code",
   "execution_count": 16,
   "metadata": {},
   "outputs": [],
   "source": [
    "file_test = 'Data/t10k-images.idx3-ubyte'\n",
    "arr_test = idx2numpy.convert_from_file(file_test)"
   ]
  },
  {
   "cell_type": "code",
   "execution_count": 17,
   "metadata": {},
   "outputs": [],
   "source": [
    "file_test_lbl = \"Data/t10k-labels.idx1-ubyte\"\n",
    "arr_test_lbl = idx2numpy.convert_from_file(file_test_lbl)"
   ]
  },
  {
   "cell_type": "code",
   "execution_count": 18,
   "metadata": {},
   "outputs": [
    {
     "data": {
      "text/plain": [
       "(10000, 28, 28)"
      ]
     },
     "execution_count": 18,
     "metadata": {},
     "output_type": "execute_result"
    }
   ],
   "source": [
    "arr_test.shape"
   ]
  },
  {
   "cell_type": "code",
   "execution_count": 19,
   "metadata": {},
   "outputs": [],
   "source": [
    "test_data_arr = arr_test.astype('float')/255.0"
   ]
  },
  {
   "cell_type": "code",
   "execution_count": 20,
   "metadata": {},
   "outputs": [],
   "source": [
    "te_shape = test_data_arr.shape\n",
    "test_data_arr = test_data_arr.reshape(te_shape[0],1,te_shape[1], te_shape[2])"
   ]
  },
  {
   "cell_type": "code",
   "execution_count": 21,
   "metadata": {},
   "outputs": [],
   "source": [
    "test_data_arr = torch.from_numpy(test_data_arr)\n",
    "arr_test_lbl = torch.from_numpy(arr_test_lbl)"
   ]
  },
  {
   "cell_type": "code",
   "execution_count": 22,
   "metadata": {},
   "outputs": [],
   "source": [
    "test = data_utils.TensorDataset(test_data_arr, arr_test_lbl)"
   ]
  },
  {
   "cell_type": "code",
   "execution_count": 23,
   "metadata": {},
   "outputs": [],
   "source": [
    "test_loader = DataLoader(test, batch_size=120, shuffle=False)"
   ]
  },
  {
   "cell_type": "code",
   "execution_count": 24,
   "metadata": {},
   "outputs": [
    {
     "name": "stdout",
     "output_type": "stream",
     "text": [
      "Accuracy on Test set- 98.53\n"
     ]
    }
   ],
   "source": [
    "# Testing on data\n",
    "with torch.no_grad():\n",
    "    test_acc = 0\n",
    "    torch_model.eval()\n",
    "    \n",
    "    y_preds = []\n",
    "    \n",
    "    for (arr, y) in test_loader:\n",
    "        y_pred = torch_model(arr.float())\n",
    "        \n",
    "        y_preds.extend(y_pred.argmax(axis=1).cpu().numpy())\n",
    "        test_acc += (y_pred.argmax(1) == y).type(torch.float).sum().item()\n",
    "        \n",
    "    test_acc = test_acc/len(test_loader.dataset)\n",
    "    print('Accuracy on Test set-', test_acc*100)"
   ]
  },
  {
   "cell_type": "code",
   "execution_count": 236,
   "metadata": {},
   "outputs": [
    {
     "data": {
      "text/plain": [
       "tensor(9, dtype=torch.uint8)"
      ]
     },
     "execution_count": 236,
     "metadata": {},
     "output_type": "execute_result"
    }
   ],
   "source": [
    "arr_test_lbl[9]"
   ]
  },
  {
   "cell_type": "code",
   "execution_count": 237,
   "metadata": {},
   "outputs": [],
   "source": [
    "# Fetch on test image for applying deconv\n",
    "test_image1 = test_data_arr[9].reshape(1,1,te_shape[1], te_shape[2])"
   ]
  },
  {
   "cell_type": "code",
   "execution_count": 238,
   "metadata": {},
   "outputs": [
    {
     "data": {
      "text/plain": [
       "<torch.utils.hooks.RemovableHandle at 0x1e1e0113a00>"
      ]
     },
     "execution_count": 238,
     "metadata": {},
     "output_type": "execute_result"
    }
   ],
   "source": [
    "torch_model.maxpool2.register_forward_hook(get_activation('maxpool2'))"
   ]
  },
  {
   "cell_type": "code",
   "execution_count": 239,
   "metadata": {
    "scrolled": true
   },
   "outputs": [],
   "source": [
    "# Get just one output of the test image\n",
    "with torch.no_grad():\n",
    "    \n",
    "    output = torch_model(test_image1.float())\n",
    "    "
   ]
  },
  {
   "cell_type": "code",
   "execution_count": 240,
   "metadata": {},
   "outputs": [
    {
     "data": {
      "text/plain": [
       "tensor([9])"
      ]
     },
     "execution_count": 240,
     "metadata": {},
     "output_type": "execute_result"
    }
   ],
   "source": [
    "# Correctly classified\n",
    "output.argmax(axis=1)"
   ]
  },
  {
   "cell_type": "code",
   "execution_count": 241,
   "metadata": {},
   "outputs": [
    {
     "data": {
      "text/plain": [
       "torch.Size([1, 16, 5, 5])"
      ]
     },
     "execution_count": 241,
     "metadata": {},
     "output_type": "execute_result"
    }
   ],
   "source": [
    "# QA: Looking at the size of output of maxpool2\n",
    "activation['maxpool2'].shape"
   ]
  },
  {
   "cell_type": "markdown",
   "metadata": {},
   "source": [
    "### Observation:\n",
    "-> Got an accuracy of 98.39 on test data"
   ]
  },
  {
   "cell_type": "markdown",
   "metadata": {},
   "source": [
    "## Task- 2\n",
    "\n",
    "Building a Deconv Neural network to visualize outputs of each layer"
   ]
  },
  {
   "cell_type": "markdown",
   "metadata": {},
   "source": [
    "### Deconvnet"
   ]
  },
  {
   "cell_type": "code",
   "execution_count": 242,
   "metadata": {},
   "outputs": [],
   "source": [
    "unpool_argmax = torch_model.argmaxes"
   ]
  },
  {
   "cell_type": "code",
   "execution_count": 243,
   "metadata": {},
   "outputs": [],
   "source": [
    "# Fetch and Transpose con weights\n",
    "conv_weights = []\n",
    "torch_model_children = list(torch_model.children())\n",
    "\n",
    "conv1_w = torch_model_children[0].weight\n",
    "conv_weights.append(conv1_w.permute(1,0,3,2))\n",
    "\n",
    "conv2_w = torch_model_children[3].weight\n",
    "conv_weights.append(conv2_w.permute(1,0,3,2))"
   ]
  },
  {
   "cell_type": "code",
   "execution_count": 244,
   "metadata": {},
   "outputs": [
    {
     "data": {
      "text/plain": [
       "(torch.Size([1, 6, 5, 5]), torch.Size([6, 16, 5, 5]))"
      ]
     },
     "execution_count": 244,
     "metadata": {},
     "output_type": "execute_result"
    }
   ],
   "source": [
    "(conv_weights[0].shape, conv_weights[1].shape)"
   ]
  },
  {
   "cell_type": "code",
   "execution_count": 245,
   "metadata": {},
   "outputs": [],
   "source": [
    "class deconvnet(nn.Module):\n",
    "    def __init__(self, unpool_argmax, conv_weights):\n",
    "        super(deconvnet, self).__init__()\n",
    "        self.conv_weights = conv_weights\n",
    "        self.unpool_argmax = unpool_argmax\n",
    "        \n",
    "        self.unpool1 = nn.MaxUnpool2d(kernel_size=(2,2), stride=(2,2))\n",
    "\n",
    "        self.relu1 = nn.ReLU()\n",
    "        # Based on the required output and input, we also have the kernel size so padding of 4 and stride of 1 fits in well\n",
    "        self.deconv1 = nn.Conv2d(16,6, kernel_size=(5,5), stride=(1,1), padding=(4,4))\n",
    "        self.deconv1.weight = torch.nn.Parameter(self.conv_weights[1], requires_grad=False)\n",
    "        self.unpool2 = nn.MaxUnpool2d(kernel_size=(2,2), stride=(2,2))\n",
    "        self.relu2 = nn.ReLU()\n",
    "        self.deconv2 = nn.Conv2d(6,1, kernel_size=(5,5), stride=(1,1), padding=(2,2))\n",
    "        self.deconv2.weight = torch.nn.Parameter(self.conv_weights[0], requires_grad=False)\n",
    "        \n",
    "    def forward(self, x):\n",
    "        x = self.unpool1(x, self.unpool_argmax[1])\n",
    "        x = self.relu1(x)\n",
    "        x = self.deconv1(x)\n",
    "        \n",
    "        x = self.unpool2(x, self.unpool_argmax[0])\n",
    "        x = self.relu2(x)\n",
    "        x = self.deconv2(x)\n",
    "        \n",
    "        return x"
   ]
  },
  {
   "cell_type": "code",
   "execution_count": 246,
   "metadata": {},
   "outputs": [],
   "source": [
    "model_deconv = deconvnet(unpool_argmax=unpool_argmax, conv_weights=conv_weights)"
   ]
  },
  {
   "cell_type": "code",
   "execution_count": 247,
   "metadata": {},
   "outputs": [],
   "source": [
    "# Get just one output of a test image\n",
    "with torch.no_grad():\n",
    "    output = model_deconv(activation['maxpool2'])  "
   ]
  },
  {
   "cell_type": "code",
   "execution_count": 248,
   "metadata": {},
   "outputs": [
    {
     "data": {
      "text/plain": [
       "<matplotlib.image.AxesImage at 0x1e1e0444a90>"
      ]
     },
     "execution_count": 248,
     "metadata": {},
     "output_type": "execute_result"
    },
    {
     "data": {
      "image/png": "[encoded data removed]",
      "text/plain": [
       "<Figure size 432x288 with 1 Axes>"
      ]
     },
     "metadata": {
      "needs_background": "light"
     },
     "output_type": "display_data"
    }
   ],
   "source": [
    "# Image generated by deconv\n",
    "plt.imshow(output[0][0])"
   ]
  },
  {
   "cell_type": "code",
   "execution_count": 249,
   "metadata": {},
   "outputs": [
    {
     "data": {
      "text/plain": [
       "<matplotlib.image.AxesImage at 0x1e1dfc67c10>"
      ]
     },
     "execution_count": 249,
     "metadata": {},
     "output_type": "execute_result"
    },
    {
     "data": {
      "image/png": "[encoded data removed]",
      "text/plain": [
       "<Figure size 432x288 with 1 Axes>"
      ]
     },
     "metadata": {
      "needs_background": "light"
     },
     "output_type": "display_data"
    }
   ],
   "source": [
    "# Original test image\n",
    "plt.imshow(test_image1[0][0])"
   ]
  },
  {
   "cell_type": "markdown",
   "metadata": {},
   "source": [
    "## Task 3\n",
    "\n",
    "Feature maps"
   ]
  },
  {
   "cell_type": "code",
   "execution_count": 250,
   "metadata": {},
   "outputs": [],
   "source": [
    "# Fetching the activation feature map by zeroing everything except the one target feature\n",
    "activ_imgs = []\n",
    "for i in range(6):\n",
    "    zero_conv_w1 = torch.zeros_like(conv1_w)\n",
    "    zero_conv_w1[i] = conv1_w[i]\n",
    "    conv_weights_changed = [zero_conv_w1.permute(1,0,3,2), conv2_w.permute(1,0,3,2)]\n",
    "    model_temp = deconvnet(unpool_argmax=unpool_argmax, conv_weights=conv_weights_changed)\n",
    "    \n",
    "    with torch.no_grad():   \n",
    "        output = model_temp(activation['maxpool2'])\n",
    "    activ_imgs.append(output[0][0])"
   ]
  },
  {
   "cell_type": "code",
   "execution_count": 251,
   "metadata": {},
   "outputs": [
    {
     "data": {
      "image/png": "[encoded data removed]",
      "text/plain": [
       "<Figure size 1080x1080 with 6 Axes>"
      ]
     },
     "metadata": {
      "needs_background": "light"
     },
     "output_type": "display_data"
    }
   ],
   "source": [
    "# Plotting the feature map\n",
    "figure, axis = plt.subplots(3, 2, figsize =(15,15))\n",
    "\n",
    "k = 0\n",
    "for i in range(3):\n",
    "    for j in range(2):\n",
    "        axis[i,j].imshow(activ_imgs[k], )\n",
    "        k+=1\n",
    "plt.show()"
   ]
  },
  {
   "cell_type": "code",
   "execution_count": 252,
   "metadata": {},
   "outputs": [],
   "source": [
    "# Feature map of the second layer\n",
    "activ_imgs = []\n",
    "for i in range(16):\n",
    "    zero_conv_w2 = torch.zeros_like(conv2_w)\n",
    "    zero_conv_w2[i] = conv2_w[i]\n",
    "    conv_weights_changed = [conv1_w.permute(1,0,3,2), zero_conv_w2.permute(1,0,3,2)]\n",
    "    model_temp = deconvnet(unpool_argmax=unpool_argmax, conv_weights=conv_weights_changed)\n",
    "    \n",
    "    with torch.no_grad():\n",
    "        output = model_temp(activation['maxpool2'])\n",
    "    activ_imgs.append(output[0][0])"
   ]
  },
  {
   "cell_type": "code",
   "execution_count": 253,
   "metadata": {},
   "outputs": [
    {
     "data": {
      "image/png": "[encoded data removed]",
      "text/plain": [
       "<Figure size 1080x1080 with 16 Axes>"
      ]
     },
     "metadata": {
      "needs_background": "light"
     },
     "output_type": "display_data"
    }
   ],
   "source": [
    "figure, axis = plt.subplots(4, 4, figsize =(15,15))\n",
    "\n",
    "k = 0\n",
    "for i in range(4):\n",
    "    for j in range(4):\n",
    "        axis[i,j].imshow(activ_imgs[k])\n",
    "        k+=1\n",
    "plt.show()"
   ]
  },
  {
   "cell_type": "markdown",
   "metadata": {},
   "source": [
    "### The End"
   ]
  }
 ],
 "metadata": {
  "kernelspec": {
   "display_name": "Python 3 (ipykernel)",
   "language": "python",
   "name": "python3"
  },
  "language_info": {
   "codemirror_mode": {
    "name": "ipython",
    "version": 3
   },
   "file_extension": ".py",
   "mimetype": "text/x-python",
   "name": "python",
   "nbconvert_exporter": "python",
   "pygments_lexer": "ipython3",
   "version": "3.8.3"
  }
 },
 "nbformat": 4,
 "nbformat_minor": 4
}
